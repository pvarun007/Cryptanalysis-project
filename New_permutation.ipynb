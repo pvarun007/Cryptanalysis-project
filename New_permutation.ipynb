{
 "cells": [
  {
   "cell_type": "code",
   "execution_count": 2,
   "id": "a44b8e92-2b52-4516-b21f-79461843f71e",
   "metadata": {
    "tags": []
   },
   "outputs": [
    {
     "name": "stdout",
     "output_type": "stream",
     "text": [
      "['00000', '00001', '00010', '00011', '00100', '00101', '00110', '00111', '01000', '01001', '01010', '01011', '01100', '01101', '01110', '01111', '10000', '10001', '10010', '10011', '10100', '10101', '10110', '10111', '11000', '11001', '11010', '11011', '11100', '11101', '11110', '11111']\n",
      "['00000', '00101', '01011', '01010', '10110', '10001', '10100', '10111', '01001', '01100', '00010', '00011', '01101', '01000', '01111', '01110', '10010', '10101', '11000', '11011', '00100', '00001', '00110', '00111', '11010', '11101', '10000', '10011', '11110', '11001', '11100', '11111']\n"
     ]
    }
   ],
   "source": [
    "from qiskit import QuantumCircuit, QuantumRegister, ClassicalRegister, transpile, Aer, execute\n",
    "# Create a quantum circuit with 10 qubits (5 for the input values and 5 for the XOR results)\n",
    "qr = QuantumRegister(6, 'q') # they are used to store the qubits, A qubit can have multiple values in it\n",
    "cr = ClassicalRegister(5, 'c') # they are used to store the results when qubits are measured\n",
    "circuit = QuantumCircuit(qr, cr)\n",
    "perm_results = []\n",
    "binary_value = []\n",
    "\n",
    "def create_binary_string():\n",
    "    for i in range(32):\n",
    "        x = format(i, '05b')\n",
    "        binary_value.append(x)\n",
    "    return binary_value\n",
    "\n",
    "\n",
    "def permutation(binary_s):\n",
    "        for i in range(32):\n",
    "            binary_value = binary_s[i]\n",
    "            for j in range(5):\n",
    "                if binary_value[j] == '1':\n",
    "                    circuit.x(qr[j]) \n",
    "            for i in range(5):\n",
    "                a = i + 1\n",
    "                if a > 4:\n",
    "                    a -=5\n",
    "                b = i + 2\n",
    "                if b > 4:\n",
    "                    b -=5\n",
    "                circuit.reset(qr[5])\n",
    "                circuit.ccx(qr[a], qr[b], qr[5])\n",
    "                circuit.cx(qr[b], qr[i])\n",
    "                circuit.cx(qr[5], qr[i])\n",
    "            for j in range(5):\n",
    "                      circuit.measure(qr[j], cr[j])\n",
    "            simulator = Aer.get_backend('qasm_simulator')\n",
    "            compiled_circuit = transpile(circuit, simulator)\n",
    "            job = execute(compiled_circuit, simulator, shots=1)\n",
    "            result = job.result()\n",
    "            counts = result.get_counts()\n",
    "            perm_result = list(counts.keys())[0][::-1][:5]  # Extract the first 5 bits and reverse the order\n",
    "            perm_results.append(perm_result)\n",
    "            circuit.reset(qr)   \n",
    "        return perm_results\n",
    "    \n",
    "binary_string = create_binary_string()\n",
    "perm = permutation(binary_string)\n",
    "print(binary_string)\n",
    "print(perm)"
   ]
  },
  {
   "cell_type": "code",
   "execution_count": 5,
   "id": "6c1703a1-0854-4b48-b924-caf7e84b465d",
   "metadata": {},
   "outputs": [
    {
     "name": "stdout",
     "output_type": "stream",
     "text": [
      "['00000', '00001', '00010', '00011', '00100', '00101', '00110', '00111', '01000', '01001', '01010', '01011', '01100', '01101', '01110', '01111', '10000', '10001', '10010', '10011', '10100', '10101', '10110', '10111', '11000', '11001', '11010', '11011', '11100', '11101', '11110', '11111']\n",
      "['00000', '00011', '00110', '00001', '01100', '01111', '00010', '00101', '11000', '11001', '11110', '11011', '00100', '00111', '01010', '01101', '10001', '10000', '10111', '10010', '11100', '11101', '10011', '10110', '01000', '01011', '01110', '01001', '10101', '10100', '11010', '11111']\n"
     ]
    }
   ],
   "source": [
    "from qiskit import QuantumCircuit, QuantumRegister, ClassicalRegister, transpile, Aer, execute\n",
    "# Create a quantum circuit with 10 qubits (5 for the input values and 5 for the XOR results)\n",
    "qr = QuantumRegister(6, 'q') # they are used to store the qubits, A qubit can have multiple values in it\n",
    "cr = ClassicalRegister(5, 'c') # they are used to store the results when qubits are measured\n",
    "circuit = QuantumCircuit(qr, cr)\n",
    "perm_results = []\n",
    "binary_value = []\n",
    "\n",
    "def create_binary_string():\n",
    "    for i in range(32):\n",
    "        x = format(i, '05b')\n",
    "        binary_value.append(x)\n",
    "    return binary_value\n",
    "\n",
    "\n",
    "def permutation(binary_s):\n",
    "        for i in range(32):\n",
    "            binary_value = binary_s[i]\n",
    "            for j in range(5):\n",
    "                if binary_value[j] == '1':\n",
    "                    circuit.x(qr[j]) \n",
    "            for i in range(5):\n",
    "                a = i + 1\n",
    "                if a > 4:\n",
    "                    a -=5\n",
    "                b = i + 2\n",
    "                if b > 4:\n",
    "                    b -=5\n",
    "                circuit.reset(qr[5])\n",
    "                circuit.cx(qr[b], qr[i])\n",
    "                circuit.ccx(qr[a], qr[b], qr[5])\n",
    "                circuit.cx(qr[b], qr[i])\n",
    "                circuit.cx(qr[5], qr[i])\n",
    "                circuit.cx(qr[a], qr[i])\n",
    "            for j in range(5):\n",
    "                      circuit.measure(qr[j], cr[j])\n",
    "            simulator = Aer.get_backend('qasm_simulator')\n",
    "            compiled_circuit = transpile(circuit, simulator)\n",
    "            job = execute(compiled_circuit, simulator, shots=1)\n",
    "            result = job.result()\n",
    "            counts = result.get_counts()\n",
    "            perm_result = list(counts.keys())[0][::-1][:5]  # Extract the first 5 bits and reverse the order\n",
    "            perm_results.append(perm_result)\n",
    "            circuit.reset(qr)   \n",
    "        return perm_results\n",
    "    \n",
    "binary_string = create_binary_string()\n",
    "perm = permutation(binary_string)\n",
    "print(binary_string)\n",
    "print(perm)"
   ]
  },
  {
   "cell_type": "code",
   "execution_count": null,
   "id": "397901ac-f87a-4562-ac50-5cb4e49e724d",
   "metadata": {},
   "outputs": [],
   "source": []
  }
 ],
 "metadata": {
  "kernelspec": {
   "display_name": "Python 3 (ipykernel)",
   "language": "python",
   "name": "python3"
  },
  "language_info": {
   "codemirror_mode": {
    "name": "ipython",
    "version": 3
   },
   "file_extension": ".py",
   "mimetype": "text/x-python",
   "name": "python",
   "nbconvert_exporter": "python",
   "pygments_lexer": "ipython3",
   "version": "3.10.8"
  },
  "widgets": {
   "application/vnd.jupyter.widget-state+json": {
    "state": {},
    "version_major": 2,
    "version_minor": 0
   }
  }
 },
 "nbformat": 4,
 "nbformat_minor": 5
}
