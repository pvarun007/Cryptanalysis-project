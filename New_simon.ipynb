{
 "cells": [
  {
   "cell_type": "code",
   "execution_count": 10,
   "id": "66a5e9e2-6045-47d7-8468-ea999beb0132",
   "metadata": {
    "tags": []
   },
   "outputs": [
    {
     "name": "stdout",
     "output_type": "stream",
     "text": [
      "Input: 00000 XOR 10101 = 01000 (After Transposition [E(x) + P(x)] )\n",
      "Input: 00001 XOR 10101 = 01010 (After Transposition [E(x) + P(x)] )\n",
      "Input: 00010 XOR 10101 = 00101 (After Transposition [E(x) + P(x)] )\n",
      "Input: 00011 XOR 10101 = 00111 (After Transposition [E(x) + P(x)] )\n",
      "Input: 00100 XOR 10101 = 01001 (After Transposition [E(x) + P(x)] )\n",
      "Input: 00101 XOR 10101 = 01011 (After Transposition [E(x) + P(x)] )\n",
      "Input: 00110 XOR 10101 = 00101 (After Transposition [E(x) + P(x)] )\n",
      "Input: 00111 XOR 10101 = 00111 (After Transposition [E(x) + P(x)] )\n",
      "Input: 01000 XOR 10101 = 11001 (After Transposition [E(x) + P(x)] )\n",
      "Input: 01001 XOR 10101 = 11001 (After Transposition [E(x) + P(x)] )\n",
      "Input: 01010 XOR 10101 = 10100 (After Transposition [E(x) + P(x)] )\n",
      "Input: 01011 XOR 10101 = 10100 (After Transposition [E(x) + P(x)] )\n",
      "Input: 01100 XOR 10101 = 11010 (After Transposition [E(x) + P(x)] )\n",
      "Input: 01101 XOR 10101 = 11010 (After Transposition [E(x) + P(x)] )\n",
      "Input: 01110 XOR 10101 = 10110 (After Transposition [E(x) + P(x)] )\n",
      "Input: 01111 XOR 10101 = 10110 (After Transposition [E(x) + P(x)] )\n",
      "Input: 10000 XOR 10101 = 01011 (After Transposition [E(x) + P(x)] )\n",
      "Input: 10001 XOR 10101 = 01001 (After Transposition [E(x) + P(x)] )\n",
      "Input: 10010 XOR 10101 = 00111 (After Transposition [E(x) + P(x)] )\n",
      "Input: 10011 XOR 10101 = 00101 (After Transposition [E(x) + P(x)] )\n",
      "Input: 10100 XOR 10101 = 01010 (After Transposition [E(x) + P(x)] )\n",
      "Input: 10101 XOR 10101 = 01000 (After Transposition [E(x) + P(x)] )\n",
      "Input: 10110 XOR 10101 = 00111 (After Transposition [E(x) + P(x)] )\n",
      "Input: 10111 XOR 10101 = 00101 (After Transposition [E(x) + P(x)] )\n",
      "Input: 11000 XOR 10101 = 11010 (After Transposition [E(x) + P(x)] )\n",
      "Input: 11001 XOR 10101 = 11010 (After Transposition [E(x) + P(x)] )\n",
      "Input: 11010 XOR 10101 = 10110 (After Transposition [E(x) + P(x)] )\n",
      "Input: 11011 XOR 10101 = 10110 (After Transposition [E(x) + P(x)] )\n",
      "Input: 11100 XOR 10101 = 11001 (After Transposition [E(x) + P(x)] )\n",
      "Input: 11101 XOR 10101 = 11001 (After Transposition [E(x) + P(x)] )\n",
      "Input: 11110 XOR 10101 = 10100 (After Transposition [E(x) + P(x)] )\n",
      "Input: 11111 XOR 10101 = 10100 (After Transposition [E(x) + P(x)] )\n"
     ]
    }
   ],
   "source": [
    "from qiskit import QuantumCircuit, QuantumRegister, ClassicalRegister, transpile, Aer, execute\n",
    "# Create a quantum circuit with 10 qubits (5 for the input values and 5 for the XOR results)\n",
    "qr = QuantumRegister(12, 'q') # they are used to store the qubits, A qubit can have multiple values in it\n",
    "cr = ClassicalRegister(10, 'c') # they are used to store the results when qubits are measured\n",
    "circuit = QuantumCircuit(qr, cr)\n",
    "# Fixed 5-bit string for XOR\n",
    "fixed_value = \"10101\"  # Key\n",
    "# Create lists to store XOR results and transposed results\n",
    "xor_results = []\n",
    "binary_value = []\n",
    "transposed_results = []\n",
    "transpose = 1\n",
    "\n",
    "#Function to create array of binary string input\n",
    "def create_binary_string():\n",
    "    for i in range(32):\n",
    "        x = format(i, '05b')\n",
    "        binary_value.append(x)\n",
    "    return binary_value\n",
    "\n",
    "#permutation method\n",
    "def permutation(i,n):\n",
    "    for i in range(n):\n",
    "        a = i + 1\n",
    "        if a > n-1:\n",
    "            a -=5\n",
    "        b = i + 2\n",
    "        if b > n-1:\n",
    "            b -=5\n",
    "        circuit.reset(qr[10])\n",
    "        circuit.cx(qr[b], qr[i])\n",
    "        circuit.ccx(qr[a], qr[b], qr[10])\n",
    "        circuit.cx(qr[b], qr[i])\n",
    "        circuit.cx(qr[10], qr[i])\n",
    "        circuit.cx(qr[a], qr[i])\n",
    "        \n",
    "# Expolring Simon Problem E(x) + P(x)\n",
    "def simon_problem(binary_s):\n",
    "        for i in range(32):\n",
    "            binary_value = binary_s[i]\n",
    "            for j in range(5):\n",
    "                     if binary_value[j] == '1':\n",
    "                            circuit.x(qr[j]) \n",
    "            for j in range(5):\n",
    "                    if fixed_value[j] == '1':\n",
    "                            circuit.x(qr[j + 5]) \n",
    "            for j in range(5):\n",
    "                       circuit.cx(qr[j], qr[j + 5])   # First XOR (x + k1)                 \n",
    "            \n",
    "            # Permutation after first Xor\n",
    "            permutation(5,10)  #P(x+k1)\n",
    "            \n",
    "            for j in range(5):\n",
    "                circuit.reset(qr[j])\n",
    "            for j in range(5):     \n",
    "                    if fixed_value[j] == '1':\n",
    "                            circuit.x(qr[j])\n",
    "            for j in range(5):\n",
    "                circuit.cx(qr[j], qr[j+5]) #P(x+k1) + k2\n",
    "            \n",
    "            for j in range(5):\n",
    "                circuit.reset(qr[j]) #To do P(x)\n",
    "            circuit.reset(qr[10])\n",
    "            circuit.reset(qr[11])\n",
    "            #print(binary_value)\n",
    "            for j in range(5):\n",
    "                     if binary_value[j] == '1':\n",
    "                            circuit.x(qr[j])\n",
    "            permutation(0,5)\n",
    "            for j in range(5):\n",
    "                circuit.cx(qr[j], qr[j+5]) #P(x+k1) + k2 + P(x)\n",
    "            \n",
    "            for j in range(5):\n",
    "                    circuit.measure(qr[j+5], cr[j])\n",
    "            simulator = Aer.get_backend('qasm_simulator')\n",
    "            compiled_circuit = transpile(circuit, simulator)\n",
    "            job = execute(compiled_circuit, simulator, shots=1)\n",
    "            result = job.result()\n",
    "            counts = result.get_counts()\n",
    "            xor_result = list(counts.keys())[0][::-1][:5]  # Extract the first 5 bits and reverse the order\n",
    "            xor_results.append(xor_result)\n",
    "            circuit.reset(qr)\n",
    "        return xor_results\n",
    " \n",
    "\n",
    "binary_string = create_binary_string()\n",
    "xor_results1 = simon_problem(binary_string)\n",
    " \n",
    "# Print XORed values, transposed values, and values after the second XOR\n",
    "for i in range(32):\n",
    "    print(f\"Input: {format(i, '05b')} XOR {fixed_value} = {xor_results1[i]} (After Transposition [E(x) + P(x)] )\")"
   ]
  },
  {
   "cell_type": "code",
   "execution_count": null,
   "id": "ecdfcf8c-2c4e-4369-94ee-3e09cf3c477a",
   "metadata": {},
   "outputs": [],
   "source": []
  }
 ],
 "metadata": {
  "kernelspec": {
   "display_name": "Python 3 (ipykernel)",
   "language": "python",
   "name": "python3"
  },
  "language_info": {
   "codemirror_mode": {
    "name": "ipython",
    "version": 3
   },
   "file_extension": ".py",
   "mimetype": "text/x-python",
   "name": "python",
   "nbconvert_exporter": "python",
   "pygments_lexer": "ipython3",
   "version": "3.10.8"
  },
  "widgets": {
   "application/vnd.jupyter.widget-state+json": {
    "state": {
     "229aec52391c4b1e92e4a3c8f3b9b44f": {
      "model_module": "@jupyter-widgets/controls",
      "model_module_version": "2.0.0",
      "model_name": "HTMLStyleModel",
      "state": {
       "description_width": "",
       "font_size": null,
       "text_color": null
      }
     },
     "2fc4cf859c344e2f9b7ad3ee33ae5d8a": {
      "model_module": "@jupyter-widgets/controls",
      "model_module_version": "2.0.0",
      "model_name": "HTMLStyleModel",
      "state": {
       "description_width": "",
       "font_size": null,
       "text_color": null
      }
     },
     "33a54935a2644979a51d2dfaff27f5f5": {
      "model_module": "@jupyter-widgets/controls",
      "model_module_version": "2.0.0",
      "model_name": "HTMLModel",
      "state": {
       "layout": "IPY_MODEL_9294fff5b482402b9b5edb6f87499269",
       "style": "IPY_MODEL_66a14f46929548f8980ded5b44da666f",
       "value": "<h5>Message</h5>"
      }
     },
     "3b1ccea7ec184ac0b417cfb9ca0352c3": {
      "model_module": "@jupyter-widgets/controls",
      "model_module_version": "2.0.0",
      "model_name": "HTMLModel",
      "state": {
       "layout": "IPY_MODEL_97fdde88af4d4fa0957714de241c7a3b",
       "style": "IPY_MODEL_dbab6a51c0d64c8a9cdbb4b69628dfca",
       "value": "<h5>Queue</h5>"
      }
     },
     "5ac7c8d2af394e0485320d035e5538e8": {
      "model_module": "@jupyter-widgets/controls",
      "model_module_version": "2.0.0",
      "model_name": "GridBoxModel",
      "state": {
       "children": [
        "IPY_MODEL_c5a14e8338774a869257c0d14c3ecf2c"
       ],
       "layout": "IPY_MODEL_5d696cea26b94c95b3353ecfb7e1a77c"
      }
     },
     "5d696cea26b94c95b3353ecfb7e1a77c": {
      "model_module": "@jupyter-widgets/base",
      "model_module_version": "2.0.0",
      "model_name": "LayoutModel",
      "state": {
       "grid_template_areas": "\n                                       \". . . . right \"\n                                        ",
       "grid_template_columns": "20% 20% 20% 20% 20%",
       "width": "100%"
      }
     },
     "62d99a97fecd457ba7dc5c4d50da0b06": {
      "model_module": "@jupyter-widgets/base",
      "model_module_version": "2.0.0",
      "model_name": "LayoutModel",
      "state": {
       "width": "190px"
      }
     },
     "66a14f46929548f8980ded5b44da666f": {
      "model_module": "@jupyter-widgets/controls",
      "model_module_version": "2.0.0",
      "model_name": "HTMLStyleModel",
      "state": {
       "description_width": "",
       "font_size": null,
       "text_color": null
      }
     },
     "74792a1fcbb4452782a029c548826be8": {
      "model_module": "@jupyter-widgets/controls",
      "model_module_version": "2.0.0",
      "model_name": "HTMLModel",
      "state": {
       "layout": "IPY_MODEL_de94af15a07e48b295ab451af6aa8abc",
       "style": "IPY_MODEL_2fc4cf859c344e2f9b7ad3ee33ae5d8a",
       "value": "<h5>Status</h5>"
      }
     },
     "793939c909844aa78114e77f11e4e849": {
      "model_module": "@jupyter-widgets/controls",
      "model_module_version": "2.0.0",
      "model_name": "HTMLModel",
      "state": {
       "layout": "IPY_MODEL_62d99a97fecd457ba7dc5c4d50da0b06",
       "style": "IPY_MODEL_a17e53ad3e584dc88a6c9bafde84ae4f",
       "value": "<h5>Job ID</h5>"
      }
     },
     "7be6b2ef6bca47af8e5fcc2aca1aa4c1": {
      "model_module": "@jupyter-widgets/base",
      "model_module_version": "2.0.0",
      "model_name": "LayoutModel",
      "state": {
       "width": "145px"
      }
     },
     "9294fff5b482402b9b5edb6f87499269": {
      "model_module": "@jupyter-widgets/base",
      "model_module_version": "2.0.0",
      "model_name": "LayoutModel",
      "state": {}
     },
     "97fdde88af4d4fa0957714de241c7a3b": {
      "model_module": "@jupyter-widgets/base",
      "model_module_version": "2.0.0",
      "model_name": "LayoutModel",
      "state": {
       "width": "70px"
      }
     },
     "a17e53ad3e584dc88a6c9bafde84ae4f": {
      "model_module": "@jupyter-widgets/controls",
      "model_module_version": "2.0.0",
      "model_name": "HTMLStyleModel",
      "state": {
       "description_width": "",
       "font_size": null,
       "text_color": null
      }
     },
     "a55e003954344133b9aa24f4d2abdc2d": {
      "model_module": "@jupyter-widgets/controls",
      "model_module_version": "2.0.0",
      "model_name": "HTMLModel",
      "state": {
       "layout": "IPY_MODEL_7be6b2ef6bca47af8e5fcc2aca1aa4c1",
       "style": "IPY_MODEL_229aec52391c4b1e92e4a3c8f3b9b44f",
       "value": "<h5>Backend</h5>"
      }
     },
     "b243fbf935f849d4adb8bdfd73241c01": {
      "model_module": "@jupyter-widgets/controls",
      "model_module_version": "2.0.0",
      "model_name": "HTMLStyleModel",
      "state": {
       "description_width": "",
       "font_size": null,
       "text_color": null
      }
     },
     "bf6dfb019fe0407fa0b72ab8e5279fa2": {
      "model_module": "@jupyter-widgets/controls",
      "model_module_version": "2.0.0",
      "model_name": "HTMLModel",
      "state": {
       "layout": "IPY_MODEL_f18f690feaf646fba2658ecbbda80183",
       "style": "IPY_MODEL_b243fbf935f849d4adb8bdfd73241c01",
       "value": "<p style='font-family: IBM Plex Sans, Arial, Helvetica, sans-serif; font-size: 20px; font-weight: medium;'>Circuit Properties</p>"
      }
     },
     "c19e2667c5dd403687b03e432484f6c7": {
      "model_module": "@jupyter-widgets/controls",
      "model_module_version": "2.0.0",
      "model_name": "HBoxModel",
      "state": {
       "children": [
        "IPY_MODEL_793939c909844aa78114e77f11e4e849",
        "IPY_MODEL_a55e003954344133b9aa24f4d2abdc2d",
        "IPY_MODEL_74792a1fcbb4452782a029c548826be8",
        "IPY_MODEL_3b1ccea7ec184ac0b417cfb9ca0352c3",
        "IPY_MODEL_33a54935a2644979a51d2dfaff27f5f5"
       ],
       "layout": "IPY_MODEL_cf354c7e64544bcf93f8ca796945c263"
      }
     },
     "c5a14e8338774a869257c0d14c3ecf2c": {
      "model_module": "@jupyter-widgets/controls",
      "model_module_version": "2.0.0",
      "model_name": "ButtonModel",
      "state": {
       "button_style": "primary",
       "description": "Clear",
       "layout": "IPY_MODEL_d3379c0bbdd64af6b7445b8b835b9338",
       "style": "IPY_MODEL_d8a039e747e54c4b9efd4c91725f7e06",
       "tooltip": null
      }
     },
     "cf354c7e64544bcf93f8ca796945c263": {
      "model_module": "@jupyter-widgets/base",
      "model_module_version": "2.0.0",
      "model_name": "LayoutModel",
      "state": {
       "margin": "0px 0px 0px 37px",
       "width": "600px"
      }
     },
     "d3379c0bbdd64af6b7445b8b835b9338": {
      "model_module": "@jupyter-widgets/base",
      "model_module_version": "2.0.0",
      "model_name": "LayoutModel",
      "state": {
       "grid_area": "right",
       "padding": "0px 0px 0px 0px",
       "width": "70px"
      }
     },
     "d8a039e747e54c4b9efd4c91725f7e06": {
      "model_module": "@jupyter-widgets/controls",
      "model_module_version": "2.0.0",
      "model_name": "ButtonStyleModel",
      "state": {
       "font_family": null,
       "font_size": null,
       "font_style": null,
       "font_variant": null,
       "font_weight": null,
       "text_color": null,
       "text_decoration": null
      }
     },
     "dbab6a51c0d64c8a9cdbb4b69628dfca": {
      "model_module": "@jupyter-widgets/controls",
      "model_module_version": "2.0.0",
      "model_name": "HTMLStyleModel",
      "state": {
       "description_width": "",
       "font_size": null,
       "text_color": null
      }
     },
     "de94af15a07e48b295ab451af6aa8abc": {
      "model_module": "@jupyter-widgets/base",
      "model_module_version": "2.0.0",
      "model_name": "LayoutModel",
      "state": {
       "width": "95px"
      }
     },
     "f18f690feaf646fba2658ecbbda80183": {
      "model_module": "@jupyter-widgets/base",
      "model_module_version": "2.0.0",
      "model_name": "LayoutModel",
      "state": {
       "margin": "0px 0px 10px 0px"
      }
     }
    },
    "version_major": 2,
    "version_minor": 0
   }
  }
 },
 "nbformat": 4,
 "nbformat_minor": 5
}
